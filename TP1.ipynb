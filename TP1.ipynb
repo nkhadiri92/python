{
 "cells": [
  {
   "cell_type": "markdown",
   "id": "9c1d6028-4e0d-4e35-9eff-02fdd80f6254",
   "metadata": {},
   "source": [
    "# Titre 1\n",
    "\n",
    "## titre 2\n",
    "\n",
    "### titre 3"
   ]
  },
  {
   "cell_type": "code",
   "execution_count": 11,
   "id": "02bbe483-5ed4-457c-a488-2325de23762a",
   "metadata": {},
   "outputs": [],
   "source": [
    "def F1(x):\n",
    "    return x*x"
   ]
  },
  {
   "cell_type": "code",
   "execution_count": 12,
   "id": "5d0a902f-b49e-4269-a999-158a0036ab9e",
   "metadata": {},
   "outputs": [
    {
     "name": "stdout",
     "output_type": "stream",
     "text": [
      "4\n"
     ]
    }
   ],
   "source": [
    "result = F1(2)\n",
    "print(result)"
   ]
  },
  {
   "cell_type": "code",
   "execution_count": 2,
   "id": "16a9aa7b-0daa-4bfc-9178-b74e93890fb3",
   "metadata": {},
   "outputs": [],
   "source": [
    "def F2(x):\n",
    "    return x+1"
   ]
  },
  {
   "cell_type": "code",
   "execution_count": 3,
   "id": "58c3a851-1adf-40da-86f9-50913a71df47",
   "metadata": {},
   "outputs": [
    {
     "name": "stdout",
     "output_type": "stream",
     "text": [
      "5\n"
     ]
    }
   ],
   "source": [
    "result = F2(4)\n",
    "print(result)"
   ]
  },
  {
   "cell_type": "code",
   "execution_count": null,
   "id": "c3418705-94da-4388-9901-4857cbf130d5",
   "metadata": {},
   "outputs": [],
   "source": []
  },
  {
   "cell_type": "code",
   "execution_count": null,
   "id": "cc6b55c6-2440-46f9-8dbd-f38e370ea06d",
   "metadata": {},
   "outputs": [],
   "source": []
  },
  {
   "cell_type": "code",
   "execution_count": null,
   "id": "c6d7b950-2898-41cd-9cf6-aa43cf64917e",
   "metadata": {},
   "outputs": [],
   "source": []
  }
 ],
 "metadata": {
  "kernelspec": {
   "display_name": "Python 3 (ipykernel)",
   "language": "python",
   "name": "python3"
  },
  "language_info": {
   "codemirror_mode": {
    "name": "ipython",
    "version": 3
   },
   "file_extension": ".py",
   "mimetype": "text/x-python",
   "name": "python",
   "nbconvert_exporter": "python",
   "pygments_lexer": "ipython3",
   "version": "3.10.12"
  }
 },
 "nbformat": 4,
 "nbformat_minor": 5
}
